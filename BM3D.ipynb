{
 "cells": [
  {
   "cell_type": "markdown",
   "id": "444d8c36-0c6a-46d1-802f-22b34207b0df",
   "metadata": {},
   "source": [
    "# BM3D\n",
    "\n",
    "Python implementation of [\"An Analysis and Implementation of the BM3D Image Denoising Method\" by Marc Lebrun](https://www.ipol.im/pub/art/2012/l-bm3d/?utm_source=doi)."
   ]
  },
  {
   "cell_type": "markdown",
   "id": "d041d8d6-3423-438b-b92a-3ab11e8ced97",
   "metadata": {},
   "source": [
    "## Modules"
   ]
  },
  {
   "cell_type": "code",
   "execution_count": 1,
   "id": "2e283419-511d-4d43-ae0e-d1d72e69bb2b",
   "metadata": {},
   "outputs": [],
   "source": [
    "import numpy as np\n",
    "from skimage import io as skio\n",
    "import heapq"
   ]
  },
  {
   "cell_type": "code",
   "execution_count": 2,
   "id": "0d258247-7380-4ceb-8f1c-0d158a7ab66e",
   "metadata": {},
   "outputs": [],
   "source": [
    "# local\n",
    "import matplotlib.pyplot as plt"
   ]
  },
  {
   "cell_type": "markdown",
   "id": "b05712f2-976b-4578-81ce-80543a3ea246",
   "metadata": {},
   "source": [
    "## Parameters"
   ]
  },
  {
   "cell_type": "code",
   "execution_count": 3,
   "id": "74ffdc80-cdfe-4025-b66c-fa8ff812366c",
   "metadata": {},
   "outputs": [],
   "source": [
    "# 1st step\n",
    "kHard = 8 #patch size\n",
    "nHard = 39 #search window size --! era pra ser 39 mas nao entendi como centralizar P\n",
    "NHard = 16 #max number of similar patches kept \n",
    "\n",
    "sigma = 30\n",
    "tauHard = 5000 if sigma > 40 else 2500\n",
    "\n",
    "gammaHard = 0 #hard thresholding for grouping --! ??? where"
   ]
  },
  {
   "cell_type": "markdown",
   "id": "0922953d-31a7-4e56-a9eb-e5af9d3b4215",
   "metadata": {},
   "source": [
    "## Initialization"
   ]
  },
  {
   "cell_type": "code",
   "execution_count": 4,
   "id": "dd5e32b4-aed8-404f-855b-4ab68e6fdb88",
   "metadata": {},
   "outputs": [],
   "source": [
    "im = skio.imread('./lena.tif') # original image"
   ]
  },
  {
   "cell_type": "code",
   "execution_count": 5,
   "id": "8b73c2c5-0de4-4214-bc0a-21621611b5a5",
   "metadata": {},
   "outputs": [],
   "source": [
    "def noise(im,br):\n",
    "    \"\"\" Cette fonction ajoute un bruit blanc gaussier d'ecart type br\n",
    "       a l'image im et renvoie le resultat\"\"\"\n",
    "    imt=np.float32(im.copy())\n",
    "    sh=imt.shape\n",
    "    bruit=br*np.random.randn(*sh)\n",
    "    imt=imt+bruit\n",
    "    return imt"
   ]
  },
  {
   "cell_type": "code",
   "execution_count": 6,
   "id": "e3cb3d70-3435-437b-947d-3d42d97b1665",
   "metadata": {},
   "outputs": [],
   "source": [
    "u = noise(im, sigma) # create noisy image"
   ]
  },
  {
   "cell_type": "markdown",
   "id": "0b914620-be4e-4db2-b1cc-620585515cc4",
   "metadata": {},
   "source": [
    "## The First Denoising Step\n"
   ]
  },
  {
   "cell_type": "markdown",
   "id": "cf7d0666-cc16-489b-ace5-caed632c8c09",
   "metadata": {},
   "source": [
    "### Grouping"
   ]
  },
  {
   "cell_type": "code",
   "execution_count": 7,
   "id": "cb30dbfe-51ae-4aeb-80ef-4f8998eec213",
   "metadata": {},
   "outputs": [],
   "source": [
    "# x,y is the top-left corner of the reference patch\n",
    "# doesnt work well for even window_size --change\n",
    "def get_search_window(image, x, y, patch_size=kHard, window_size=nHard):\n",
    "    img_h, img_w = image.shape  # image dimensions\n",
    "    \n",
    "    # padded image (to handle borders)\n",
    "    padded_image = np.pad(image, window_size//2, mode='reflect')\n",
    "    \n",
    "    # adjust coordinates\n",
    "    x_padded = x + window_size//2\n",
    "    y_padded = y + window_size//2\n",
    "\n",
    "    # ensure the patch defined by (x, y) fits within the image bounds\n",
    "    if x < 0 or y < 0 or x + patch_size > img_w or y + patch_size > img_h:\n",
    "        raise ValueError(\"The specified patch defined by (x, y) exceeds image boundaries.\")\n",
    "    \n",
    "    search_window = padded_image[\n",
    "        y_padded - (window_size//2 - patch_size//2):y_padded + window_size//2 + patch_size//2 +1,\n",
    "        x_padded - (window_size//2 - patch_size//2):x_padded + window_size//2 + patch_size//2 +1  \n",
    "    ]\n",
    "    return search_window"
   ]
  },
  {
   "cell_type": "code",
   "execution_count": 8,
   "id": "2edf731d-d868-4f95-9e42-72d2c29cdc10",
   "metadata": {},
   "outputs": [],
   "source": [
    "def hard_thresholding(img, threshold):\n",
    "    return (img < threshold) * img"
   ]
  },
  {
   "cell_type": "code",
   "execution_count": 9,
   "id": "9f1aa861-d0e4-49ae-a023-2ea438b0c3d2",
   "metadata": {},
   "outputs": [],
   "source": [
    "def distance(p,q):\n",
    "    return (np.linalg.norm(p-q) ** 2) / (kHard ** 2)"
   ]
  },
  {
   "cell_type": "code",
   "execution_count": 14,
   "id": "ea74ceb9-1f22-49b8-820e-01154efa833d",
   "metadata": {},
   "outputs": [],
   "source": [
    "def build_3d_group(p, window, sigma, gammaHard, tauHard, N=NHard):\n",
    "    closer_N_dists = []\n",
    "\n",
    "    # assumming square patch and window\n",
    "    k = p.shape[0]\n",
    "    n = window.shape[0] \n",
    "\n",
    "    if sigma > 40:\n",
    "        p = hard_thresholding(p, gammaHard * sigma)\n",
    "    \n",
    "    for i in range(n-k+1):\n",
    "        for j in range(n-k+1):\n",
    "            # get patch Q and calculate distance to ref P\n",
    "            q = window[i:k+i, j:k+j]\n",
    "            if sigma > 40:\n",
    "                q = hard_thresholding(q, gammaHard * sigma)\n",
    "            \n",
    "            dist = distance(p, q)\n",
    "            if dist <= tauHard:\n",
    "                dist_tuple = (-dist, (i, j))  # negate distance to use max-heap\n",
    "        \n",
    "                if len(closer_N_dists) < N+1: # because after we will take out the first one\n",
    "                    heapq.heappush(closer_N_dists, dist_tuple)\n",
    "                else:\n",
    "                    if dist_tuple > closer_N_dists[0]:\n",
    "                        heapq.heappushpop(closer_N_dists, dist_tuple)\n",
    "                        \n",
    "    closer_N_dists = [(-d, idx) for d, idx in closer_N_dists]\n",
    "    closer_N_dists = sorted(closer_N_dists, key=lambda x: x[0])[1:] # take out the first one (distance 0.0)\n",
    "\n",
    "    \n",
    "    group_3d = []\n",
    "    for _, (i, j) in closer_N_dists:\n",
    "        patch = window[i:k+i, j:k+j]\n",
    "        group_3d.append(patch)\n",
    "    group_3d=np.array(group_3d)\n",
    "    \n",
    "    return group_3d"
   ]
  },
  {
   "cell_type": "code",
   "execution_count": 16,
   "id": "33683668-4ee1-4055-84f1-a4bcd534f965",
   "metadata": {},
   "outputs": [],
   "source": [
    "def grouping_1st_step(image, sigma, kHard, nHard, gammaHard, tauHard, NHard):\n",
    "    height, width = image.shape\n",
    "    all_groups = []\n",
    "\n",
    "    # iterate through all patches in the image\n",
    "    for x in range(0, height - kHard + 1, kHard):\n",
    "        for y in range(0, width - kHard + 1, kHard):\n",
    "            \n",
    "            patch = image[x:x+kHard, y:y+kHard]\n",
    "            search_window = get_search_window(image, x, y, patch_size=kHard, window_size=nHard)\n",
    "\n",
    "            group_3d = build_3d_group(patch, search_window, sigma, gammaHard, tauHard, NHard)\n",
    "\n",
    "            if len(group_3d) > 0:\n",
    "                all_groups.append((group_3d, (x,y)))\n",
    "\n",
    "    return all_groups"
   ]
  },
  {
   "cell_type": "code",
   "execution_count": 17,
   "id": "963d8196-b76b-4eb7-b1e4-a101ae7b1053",
   "metadata": {
    "scrolled": true
   },
   "outputs": [
    {
     "name": "stdout",
     "output_type": "stream",
     "text": [
      "CPU times: total: 2min 28s\n",
      "Wall time: 2min 49s\n"
     ]
    }
   ],
   "source": [
    "%%time\n",
    "a=grouping_1st_step(u, sigma, kHard, nHard, gammaHard, tauHard, NHard)"
   ]
  },
  {
   "cell_type": "code",
   "execution_count": 22,
   "id": "ad89be73-ec1f-4505-9bee-d8c82a33433e",
   "metadata": {},
   "outputs": [
    {
     "name": "stdout",
     "output_type": "stream",
     "text": [
      "quantidade de 3d groups: 10974\n",
      "(4, 16)\n",
      "exemplo da estrutura de um: (16, 8, 8)\n"
     ]
    },
    {
     "data": {
      "text/plain": [
       "(array([[[109.52249483, 161.20902822, 161.44063125, ..., 129.84449276,\n",
       "          135.51302547, 103.92265316],\n",
       "         [118.31419494, 148.49671213, 103.83842967, ..., 118.42754583,\n",
       "          124.81407541, 112.49848665],\n",
       "         [ 77.89256804, 141.11644975, 100.76731756, ..., 179.64053832,\n",
       "          149.7571895 , 171.05869221],\n",
       "         ...,\n",
       "         [132.66082444, 143.91198748,  69.07423657, ..., 135.68488739,\n",
       "          157.1794654 ,  99.62012458],\n",
       "         [107.24306215, 128.77838677, 137.92471691, ..., 106.56738519,\n",
       "          108.27680172, 114.4768356 ],\n",
       "         [160.86511802,  86.11862739, 152.79765814, ...,  74.8854051 ,\n",
       "          122.85427623,  93.29719872]],\n",
       " \n",
       "        [[157.1794654 , 135.68488739, 151.9681494 , ..., 143.91198748,\n",
       "          132.66082444,  93.96422565],\n",
       "         [ 62.21054684, 129.24309576, 125.38090599, ..., 112.85020935,\n",
       "          134.16143946,  94.93569401],\n",
       "         [135.72262543, 140.64605085, 137.92849369, ..., 128.97083054,\n",
       "          160.73703906, 134.16586381],\n",
       "         ...,\n",
       "         [135.51302547, 129.84449276, 126.89945463, ..., 161.20902822,\n",
       "          109.52249483, 152.53384866],\n",
       "         [124.81407541, 118.42754583, 122.25162075, ..., 148.49671213,\n",
       "          118.31419494, 112.22040528],\n",
       "         [149.7571895 , 179.64053832, 153.47638254, ..., 141.11644975,\n",
       "           77.89256804, 121.87497427]],\n",
       " \n",
       "        [[129.84449276, 126.89945463, 148.69479284, ..., 109.52249483,\n",
       "          152.53384866, 157.09886257],\n",
       "         [118.42754583, 122.25162075,  88.46444117, ..., 118.31419494,\n",
       "          112.22040528, 127.30112512],\n",
       "         [179.64053832, 153.47638254, 195.84288064, ...,  77.89256804,\n",
       "          121.87497427, 152.13544939],\n",
       "         ...,\n",
       "         [135.68488739, 151.9681494 , 133.55819072, ..., 132.66082444,\n",
       "           93.96422565, 131.53859544],\n",
       "         [106.56738519, 142.71542463, 123.55108405, ..., 107.24306215,\n",
       "          100.76012011, 159.07119538],\n",
       "         [ 74.8854051 , 123.75581997, 130.65909442, ..., 160.86511802,\n",
       "           95.87381086, 142.18034604]],\n",
       " \n",
       "        ...,\n",
       " \n",
       "        [[148.66882271, 150.35567807, 142.24865993, ..., 142.80461681,\n",
       "          138.68860878, 128.33108682],\n",
       "         [169.94373392,  57.95779596, 109.90614149, ..., 148.89793288,\n",
       "           49.76141207, 122.33841632],\n",
       "         [173.58226691, 129.76765625, 143.32210295, ..., 186.51505073,\n",
       "          189.22434437, 160.41844548],\n",
       "         ...,\n",
       "         [137.92471691, 128.77838677, 107.24306215, ..., 146.37885487,\n",
       "          126.27901158, 125.6071551 ],\n",
       "         [ 69.07423657, 143.91198748, 132.66082444, ..., 124.37754928,\n",
       "          120.90886916, 108.26469822],\n",
       "         [143.84986456, 112.85020935, 134.16143946, ..., 157.1526331 ,\n",
       "          131.8943036 ,  67.50342196]],\n",
       " \n",
       "        [[168.49040355, 124.34693948, 134.16586381, ..., 154.76628357,\n",
       "          133.91957061, 137.92849369],\n",
       "         [120.85761096, 152.13544939, 121.87497427, ..., 100.76731756,\n",
       "          195.84288064, 153.47638254],\n",
       "         [130.09432959, 127.30112512, 112.22040528, ..., 103.83842967,\n",
       "           88.46444117, 122.25162075],\n",
       "         ...,\n",
       "         [120.85761096, 152.13544939, 121.87497427, ..., 100.76731756,\n",
       "          195.84288064, 153.47638254],\n",
       "         [168.49040355, 124.34693948, 134.16586381, ..., 154.76628357,\n",
       "          133.91957061, 137.92849369],\n",
       "         [157.1526331 , 129.18692602,  94.93569401, ..., 143.84986456,\n",
       "          132.52246532, 125.38090599]],\n",
       " \n",
       "        [[154.69722737, 161.07393935, 145.47277608, ..., 125.66663823,\n",
       "          144.14296375, 147.7087809 ],\n",
       "         [ 93.29719872,  86.75473072, 120.57791948, ..., 122.26091181,\n",
       "          146.76873892, 116.86170522],\n",
       "         [114.4768356 , 102.940984  ,  90.78069423, ..., 175.77496215,\n",
       "          168.91232733, 135.11713431],\n",
       "         ...,\n",
       "         [150.97091213, 141.354079  , 168.98200223, ...,  90.25110771,\n",
       "          211.05174092, 168.17631529],\n",
       "         [171.05869221, 129.29641154, 117.8903054 , ..., 129.72658106,\n",
       "          182.76504866, 158.01468078],\n",
       "         [112.49848665, 193.86947302, 101.48848545, ..., 121.25202596,\n",
       "           84.32936819, 116.67082676]]]),\n",
       " (0, 0))"
      ]
     },
     "execution_count": 22,
     "metadata": {},
     "output_type": "execute_result"
    }
   ],
   "source": [
    "print(f'quantidade de 3d groups: {len(a)}')\n",
    "print(a[100][1])\n",
    "print(f'exemplo da estrutura de um: {a[0][0].shape}')\n",
    "a[0]"
   ]
  },
  {
   "cell_type": "markdown",
   "id": "b00dfbdf-a07e-45fc-9463-564298df1420",
   "metadata": {
    "jp-MarkdownHeadingCollapsed": true
   },
   "source": [
    "### --rascunho"
   ]
  },
  {
   "cell_type": "markdown",
   "id": "8f949a19-e8c4-46b9-8191-0d97e34127d7",
   "metadata": {},
   "source": [
    "DÚVIDA: como lidar com patches que não formam grupos? acho que nenhum Q teve distancia abaixo da threshold. por enquanto vou só ignorar eles "
   ]
  },
  {
   "cell_type": "code",
   "execution_count": null,
   "id": "8880e62c-c13a-454a-8af8-a7c29ca1b6e7",
   "metadata": {},
   "outputs": [],
   "source": [
    "print(a[1].shape)\n",
    "print(a[1000].shape)"
   ]
  },
  {
   "cell_type": "markdown",
   "id": "50ad6bb9-de1a-4b2d-bb92-c8cc019f874b",
   "metadata": {},
   "source": [
    "rever passo em grouping_1st_step"
   ]
  },
  {
   "cell_type": "markdown",
   "id": "2cacf5b4-e2ee-4834-8f7d-0c7eb0f5e290",
   "metadata": {},
   "source": [
    "### Collaborative Filtering"
   ]
  },
  {
   "cell_type": "markdown",
   "id": "a9df5fd6-f0c6-4710-aa2a-60551c3a2c63",
   "metadata": {},
   "source": [
    "### Aggregation"
   ]
  },
  {
   "cell_type": "markdown",
   "id": "aae8c450-3a92-49db-b302-26280d89d851",
   "metadata": {},
   "source": [
    "## The Second Denoising Step"
   ]
  },
  {
   "cell_type": "markdown",
   "id": "4c55cc53-7cb9-4941-8086-9c7de0966133",
   "metadata": {},
   "source": [
    "### Grouping"
   ]
  },
  {
   "cell_type": "markdown",
   "id": "0168cc37-dee3-4515-a378-d3012fbcee79",
   "metadata": {},
   "source": [
    "### Collaborative Filtering\n"
   ]
  },
  {
   "cell_type": "markdown",
   "id": "977e5384-b9a7-4046-957a-a361511f7f73",
   "metadata": {},
   "source": [
    "### Aggregation"
   ]
  },
  {
   "cell_type": "markdown",
   "id": "309f318e-5e5a-4fa2-97c2-745cc8b36b71",
   "metadata": {},
   "source": [
    "## Results"
   ]
  },
  {
   "cell_type": "markdown",
   "id": "efb1c86a-9299-4f11-a050-aedaa316dd18",
   "metadata": {},
   "source": [
    "### PSNR: Peak Signal to Noise Ratio"
   ]
  },
  {
   "cell_type": "code",
   "execution_count": null,
   "id": "952cd8ec-0298-486b-91ae-44e01bd259a9",
   "metadata": {},
   "outputs": [],
   "source": []
  }
 ],
 "metadata": {
  "kernelspec": {
   "display_name": "Python 3 (ipykernel)",
   "language": "python",
   "name": "python3"
  },
  "language_info": {
   "codemirror_mode": {
    "name": "ipython",
    "version": 3
   },
   "file_extension": ".py",
   "mimetype": "text/x-python",
   "name": "python",
   "nbconvert_exporter": "python",
   "pygments_lexer": "ipython3",
   "version": "3.12.7"
  }
 },
 "nbformat": 4,
 "nbformat_minor": 5
}
